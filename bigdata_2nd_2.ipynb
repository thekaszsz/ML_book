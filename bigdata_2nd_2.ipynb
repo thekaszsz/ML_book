{
  "nbformat": 4,
  "nbformat_minor": 0,
  "metadata": {
    "colab": {
      "provenance": [],
      "authorship_tag": "ABX9TyMDi0MgtBa0jiwHBpwAVTrZ",
      "include_colab_link": true
    },
    "kernelspec": {
      "name": "python3",
      "display_name": "Python 3"
    },
    "language_info": {
      "name": "python"
    }
  },
  "cells": [
    {
      "cell_type": "markdown",
      "metadata": {
        "id": "view-in-github",
        "colab_type": "text"
      },
      "source": [
        "<a href=\"https://colab.research.google.com/github/thekaszsz/ML_book/blob/main/bigdata_2nd_2.ipynb\" target=\"_parent\"><img src=\"https://colab.research.google.com/assets/colab-badge.svg\" alt=\"Open In Colab\"/></a>"
      ]
    },
    {
      "cell_type": "code",
      "execution_count": 1,
      "metadata": {
        "id": "SEIgFqAESu4a"
      },
      "outputs": [],
      "source": [
        "import pandas as pd\n",
        "import numpy as np"
      ]
    },
    {
      "cell_type": "code",
      "source": [
        "from sklearn.datasets import load_diabetes\n",
        "\n",
        "diabetes = load_diabetes()\n",
        "x = pd.DataFrame(diabetes.data, columns = diabetes.feature_names)\n",
        "y = pd.DataFrame(diabetes.target)\n",
        "\n",
        "from sklearn.model_selection import train_test_split\n",
        "x_train, x_test, y_train, y_test = train_test_split(x, y, test_size = 0.2, random_state = 2023)\n",
        "\n",
        "x_test = pd.DataFrame(x_test.reset_index())\n",
        "x_train = pd.DataFrame(x_train.reset_index())\n",
        "y_train = pd.DataFrame(y_train.reset_index())\n",
        "\n",
        "x_test.rename(columns = {'index':'cust_id'}, inplace = True)\n",
        "x_train.rename(columns = {'index':'cust_id'}, inplace = True)\n",
        "y_train.columns = ['cust_id', 'target']"
      ],
      "metadata": {
        "id": "NJoLD-ufS9xJ"
      },
      "execution_count": 7,
      "outputs": []
    },
    {
      "cell_type": "code",
      "source": [
        "print(diabetes.DESCR)"
      ],
      "metadata": {
        "colab": {
          "base_uri": "https://localhost:8080/"
        },
        "id": "EoJ5aGmpT2Q0",
        "outputId": "b074cac7-f499-4e89-e0ed-251c275585bd"
      },
      "execution_count": 8,
      "outputs": [
        {
          "output_type": "stream",
          "name": "stdout",
          "text": [
            ".. _diabetes_dataset:\n",
            "\n",
            "Diabetes dataset\n",
            "----------------\n",
            "\n",
            "Ten baseline variables, age, sex, body mass index, average blood\n",
            "pressure, and six blood serum measurements were obtained for each of n =\n",
            "442 diabetes patients, as well as the response of interest, a\n",
            "quantitative measure of disease progression one year after baseline.\n",
            "\n",
            "**Data Set Characteristics:**\n",
            "\n",
            "  :Number of Instances: 442\n",
            "\n",
            "  :Number of Attributes: First 10 columns are numeric predictive values\n",
            "\n",
            "  :Target: Column 11 is a quantitative measure of disease progression one year after baseline\n",
            "\n",
            "  :Attribute Information:\n",
            "      - age     age in years\n",
            "      - sex\n",
            "      - bmi     body mass index\n",
            "      - bp      average blood pressure\n",
            "      - s1      tc, total serum cholesterol\n",
            "      - s2      ldl, low-density lipoproteins\n",
            "      - s3      hdl, high-density lipoproteins\n",
            "      - s4      tch, total cholesterol / HDL\n",
            "      - s5      ltg, possibly log of serum triglycerides level\n",
            "      - s6      glu, blood sugar level\n",
            "\n",
            "Note: Each of these 10 feature variables have been mean centered and scaled by the standard deviation times the square root of `n_samples` (i.e. the sum of squares of each column totals 1).\n",
            "\n",
            "Source URL:\n",
            "https://www4.stat.ncsu.edu/~boos/var.select/diabetes.html\n",
            "\n",
            "For more information see:\n",
            "Bradley Efron, Trevor Hastie, Iain Johnstone and Robert Tibshirani (2004) \"Least Angle Regression,\" Annals of Statistics (with discussion), 407-499.\n",
            "(https://web.stanford.edu/~hastie/Papers/LARS/LeastAngle_2002.pdf)\n",
            "\n"
          ]
        }
      ]
    },
    {
      "cell_type": "code",
      "source": [
        "print(x_train.shape)\n",
        "print(x_test.shape)\n",
        "print(y_train.shape)"
      ],
      "metadata": {
        "colab": {
          "base_uri": "https://localhost:8080/"
        },
        "id": "L3HLdmpAU0Uk",
        "outputId": "430c370d-e24d-4419-f25a-ee49666fcba7"
      },
      "execution_count": 9,
      "outputs": [
        {
          "output_type": "stream",
          "name": "stdout",
          "text": [
            "(353, 11)\n",
            "(89, 11)\n",
            "(353, 2)\n"
          ]
        }
      ]
    },
    {
      "cell_type": "code",
      "source": [
        "print(x_train.head(3))\n",
        "print(x_test.head(3))\n",
        "print(y_train.head(3))"
      ],
      "metadata": {
        "colab": {
          "base_uri": "https://localhost:8080/"
        },
        "id": "KcO_vtAaU_EL",
        "outputId": "f1f43e2c-353a-4581-b07c-62c0636c36b2"
      },
      "execution_count": 10,
      "outputs": [
        {
          "output_type": "stream",
          "name": "stdout",
          "text": [
            "   cust_id       age       sex       bmi        bp        s1        s2  \\\n",
            "0        4  0.005383 -0.044642 -0.036385  0.021872  0.003935  0.015596   \n",
            "1      318  0.088931 -0.044642  0.006728  0.025315  0.030078  0.008707   \n",
            "2      301 -0.001882  0.050680 -0.024529  0.052858  0.027326  0.030001   \n",
            "\n",
            "         s3        s4        s5        s6  \n",
            "0  0.008142 -0.002592 -0.031988 -0.046641  \n",
            "1  0.063367 -0.039493  0.009434  0.032059  \n",
            "2  0.030232 -0.002592 -0.021395  0.036201  \n",
            "   cust_id       age       sex       bmi        bp        s1        s2  \\\n",
            "0      280  0.009016  0.050680  0.018584  0.039087  0.017694  0.010586   \n",
            "1      412  0.074401 -0.044642  0.085408  0.063187  0.014942  0.013091   \n",
            "2       68  0.038076  0.050680 -0.029918 -0.040099 -0.033216 -0.024174   \n",
            "\n",
            "         s3        s4        s5        s6  \n",
            "0  0.019187 -0.002592  0.016307 -0.017646  \n",
            "1  0.015505 -0.002592  0.006207  0.085907  \n",
            "2 -0.010266 -0.002592 -0.012909  0.003064  \n",
            "   cust_id  target\n",
            "0        4   135.0\n",
            "1      318   109.0\n",
            "2      301    65.0\n"
          ]
        }
      ]
    },
    {
      "cell_type": "code",
      "source": [
        "print(x_train.describe().T)\n",
        "print(x_test.describe().T)\n",
        "print(y_train.describe().T)"
      ],
      "metadata": {
        "colab": {
          "base_uri": "https://localhost:8080/"
        },
        "id": "4N5lF3w1VGwM",
        "outputId": "0b678561-c3d4-4469-bbd8-29adfff5534a"
      },
      "execution_count": 12,
      "outputs": [
        {
          "output_type": "stream",
          "name": "stdout",
          "text": [
            "         count        mean         std       min         25%         50%  \\\n",
            "cust_id  353.0  212.634561  126.668903  0.000000  105.000000  210.000000   \n",
            "age      353.0    0.000804    0.047617 -0.107226   -0.038207    0.005383   \n",
            "sex      353.0    0.000724    0.047673 -0.044642   -0.044642   -0.044642   \n",
            "bmi      353.0    0.000640    0.048141 -0.084886   -0.035307   -0.006206   \n",
            "bp       353.0   -0.000326    0.046585 -0.112399   -0.033213   -0.005670   \n",
            "s1       353.0    0.001179    0.047891 -0.126781   -0.033216   -0.002945   \n",
            "s2       353.0    0.001110    0.048248 -0.115613   -0.029184   -0.001314   \n",
            "s3       353.0   -0.000452    0.048600 -0.102307   -0.039719   -0.006584   \n",
            "s4       353.0    0.000901    0.048045 -0.076395   -0.039493   -0.002592   \n",
            "s5       353.0    0.001446    0.047160 -0.126097   -0.033246    0.000272   \n",
            "s6       353.0    0.000589    0.048122 -0.137767   -0.034215    0.003064   \n",
            "\n",
            "                75%         max  \n",
            "cust_id  322.000000  441.000000  \n",
            "age        0.038076    0.110727  \n",
            "sex        0.050680    0.050680  \n",
            "bmi        0.030440    0.170555  \n",
            "bp         0.032201    0.125158  \n",
            "s1         0.027326    0.153914  \n",
            "s2         0.031567    0.198788  \n",
            "s3         0.030232    0.181179  \n",
            "s4         0.034309    0.185234  \n",
            "s5         0.033654    0.133597  \n",
            "s6         0.032059    0.135612  \n",
            "         count        mean         std       min         25%         50%  \\\n",
            "cust_id   89.0  251.696629  127.901365  9.000000  148.000000  280.000000   \n",
            "age       89.0   -0.003188    0.047761 -0.099961   -0.034575   -0.001882   \n",
            "sex       89.0   -0.002871    0.047563 -0.044642   -0.044642   -0.044642   \n",
            "bmi       89.0   -0.002537    0.045665 -0.090275   -0.030996   -0.009439   \n",
            "bp        89.0    0.001292    0.051777 -0.108956   -0.036656   -0.005670   \n",
            "s1        89.0   -0.004676    0.046493 -0.091006   -0.037344   -0.009825   \n",
            "s2        89.0   -0.004401    0.045030 -0.089935   -0.030437   -0.014153   \n",
            "s3        89.0    0.001792    0.043723 -0.080217   -0.028674   -0.002903   \n",
            "s4        89.0   -0.003575    0.045980 -0.076395   -0.039493   -0.002592   \n",
            "s5        89.0   -0.005737    0.049252 -0.104366   -0.038460   -0.014960   \n",
            "s6        89.0   -0.002334    0.045757 -0.129483   -0.030072   -0.005220   \n",
            "\n",
            "                75%         max  \n",
            "cust_id  366.000000  436.000000  \n",
            "age        0.030811    0.096197  \n",
            "sex        0.050680    0.050680  \n",
            "bmi        0.034751    0.137143  \n",
            "bp         0.042529    0.132044  \n",
            "s1         0.031454    0.119515  \n",
            "s2         0.020607    0.130208  \n",
            "s3         0.022869    0.122273  \n",
            "s4         0.003312    0.141322  \n",
            "s5         0.024055    0.133597  \n",
            "s6         0.019633    0.135612  \n",
            "         count        mean         std   min    25%    50%    75%    max\n",
            "cust_id  353.0  212.634561  126.668903   0.0  105.0  210.0  322.0  441.0\n",
            "target   353.0  152.943343   75.324692  37.0   90.0  141.0  208.0  346.0\n"
          ]
        }
      ]
    },
    {
      "cell_type": "code",
      "source": [
        "print(x_train.info())\n",
        "print(x_test.info())\n",
        "print(y_train.info())"
      ],
      "metadata": {
        "colab": {
          "base_uri": "https://localhost:8080/"
        },
        "id": "W4lDP3UDVLzH",
        "outputId": "e5e2d979-9440-4311-99ce-1e5ca8d91984"
      },
      "execution_count": 13,
      "outputs": [
        {
          "output_type": "stream",
          "name": "stdout",
          "text": [
            "<class 'pandas.core.frame.DataFrame'>\n",
            "RangeIndex: 353 entries, 0 to 352\n",
            "Data columns (total 11 columns):\n",
            " #   Column   Non-Null Count  Dtype  \n",
            "---  ------   --------------  -----  \n",
            " 0   cust_id  353 non-null    int64  \n",
            " 1   age      353 non-null    float64\n",
            " 2   sex      353 non-null    float64\n",
            " 3   bmi      353 non-null    float64\n",
            " 4   bp       353 non-null    float64\n",
            " 5   s1       353 non-null    float64\n",
            " 6   s2       353 non-null    float64\n",
            " 7   s3       353 non-null    float64\n",
            " 8   s4       353 non-null    float64\n",
            " 9   s5       353 non-null    float64\n",
            " 10  s6       353 non-null    float64\n",
            "dtypes: float64(10), int64(1)\n",
            "memory usage: 30.5 KB\n",
            "None\n",
            "<class 'pandas.core.frame.DataFrame'>\n",
            "RangeIndex: 89 entries, 0 to 88\n",
            "Data columns (total 11 columns):\n",
            " #   Column   Non-Null Count  Dtype  \n",
            "---  ------   --------------  -----  \n",
            " 0   cust_id  89 non-null     int64  \n",
            " 1   age      89 non-null     float64\n",
            " 2   sex      89 non-null     float64\n",
            " 3   bmi      89 non-null     float64\n",
            " 4   bp       89 non-null     float64\n",
            " 5   s1       89 non-null     float64\n",
            " 6   s2       89 non-null     float64\n",
            " 7   s3       89 non-null     float64\n",
            " 8   s4       89 non-null     float64\n",
            " 9   s5       89 non-null     float64\n",
            " 10  s6       89 non-null     float64\n",
            "dtypes: float64(10), int64(1)\n",
            "memory usage: 7.8 KB\n",
            "None\n",
            "<class 'pandas.core.frame.DataFrame'>\n",
            "RangeIndex: 353 entries, 0 to 352\n",
            "Data columns (total 2 columns):\n",
            " #   Column   Non-Null Count  Dtype  \n",
            "---  ------   --------------  -----  \n",
            " 0   cust_id  353 non-null    int64  \n",
            " 1   target   353 non-null    float64\n",
            "dtypes: float64(1), int64(1)\n",
            "memory usage: 5.6 KB\n",
            "None\n"
          ]
        }
      ]
    },
    {
      "cell_type": "code",
      "source": [
        "print(y_train.head())"
      ],
      "metadata": {
        "colab": {
          "base_uri": "https://localhost:8080/"
        },
        "id": "yk3A0d6-VYam",
        "outputId": "4b5dc12f-c53f-4330-9ce1-c0366c73a3b4"
      },
      "execution_count": 14,
      "outputs": [
        {
          "output_type": "stream",
          "name": "stdout",
          "text": [
            "   cust_id  target\n",
            "0        4   135.0\n",
            "1      318   109.0\n",
            "2      301    65.0\n",
            "3      189    79.0\n",
            "4      288    80.0\n"
          ]
        }
      ]
    },
    {
      "cell_type": "code",
      "source": [
        "print(y_train.describe().T)"
      ],
      "metadata": {
        "colab": {
          "base_uri": "https://localhost:8080/"
        },
        "id": "phexwknSVuqi",
        "outputId": "02a78b7e-79d0-47dc-b62d-a509dc5ab31e"
      },
      "execution_count": 16,
      "outputs": [
        {
          "output_type": "stream",
          "name": "stdout",
          "text": [
            "         count        mean         std   min    25%    50%    75%    max\n",
            "cust_id  353.0  212.634561  126.668903   0.0  105.0  210.0  322.0  441.0\n",
            "target   353.0  152.943343   75.324692  37.0   90.0  141.0  208.0  346.0\n"
          ]
        }
      ]
    },
    {
      "cell_type": "code",
      "source": [
        "print(x_train.isnull().sum())\n",
        "print(x_test.isnull().sum())\n",
        "print(y_train.isnull().sum())"
      ],
      "metadata": {
        "colab": {
          "base_uri": "https://localhost:8080/"
        },
        "id": "z-RJVOvRV1ur",
        "outputId": "c288a3ba-eebf-4110-d794-4eb89447a1cc"
      },
      "execution_count": 17,
      "outputs": [
        {
          "output_type": "stream",
          "name": "stdout",
          "text": [
            "cust_id    0\n",
            "age        0\n",
            "sex        0\n",
            "bmi        0\n",
            "bp         0\n",
            "s1         0\n",
            "s2         0\n",
            "s3         0\n",
            "s4         0\n",
            "s5         0\n",
            "s6         0\n",
            "dtype: int64\n",
            "cust_id    0\n",
            "age        0\n",
            "sex        0\n",
            "bmi        0\n",
            "bp         0\n",
            "s1         0\n",
            "s2         0\n",
            "s3         0\n",
            "s4         0\n",
            "s5         0\n",
            "s6         0\n",
            "dtype: int64\n",
            "cust_id    0\n",
            "target     0\n",
            "dtype: int64\n"
          ]
        }
      ]
    },
    {
      "cell_type": "code",
      "source": [
        "cust_id = x_test['cust_id'].copy()"
      ],
      "metadata": {
        "id": "zrrYtzClWYGy"
      },
      "execution_count": 18,
      "outputs": []
    },
    {
      "cell_type": "code",
      "source": [
        "x_train = x_train.drop(columns = ['cust_id'])\n",
        "x_test = x_test.drop(columns = ['cust_id'])"
      ],
      "metadata": {
        "id": "E_Be3fK-W06y"
      },
      "execution_count": 19,
      "outputs": []
    },
    {
      "cell_type": "code",
      "source": [
        "from sklearn.model_selection import train_test_split\n",
        "x_train, x_val, y_train, y_val = train_test_split(x_train, y_train['target'], test_size = 0.2, random_state = 2023)\n",
        "\n",
        "print(x_train.shape)\n",
        "print(x_val.shape)\n",
        "print(y_train.shape)\n",
        "print(y_val.shape)"
      ],
      "metadata": {
        "colab": {
          "base_uri": "https://localhost:8080/"
        },
        "id": "q0kkrJurXLJv",
        "outputId": "edfd706c-f00d-4344-b259-609aacb375d9"
      },
      "execution_count": 20,
      "outputs": [
        {
          "output_type": "stream",
          "name": "stdout",
          "text": [
            "(282, 10)\n",
            "(71, 10)\n",
            "(282,)\n",
            "(71,)\n"
          ]
        }
      ]
    },
    {
      "cell_type": "code",
      "source": [
        "from sklearn.ensemble import RandomForestRegressor\n",
        "\n",
        "model = RandomForestRegressor()\n",
        "model.fit(x_train, y_train)"
      ],
      "metadata": {
        "colab": {
          "base_uri": "https://localhost:8080/",
          "height": 75
        },
        "id": "h6ODPuplXvoH",
        "outputId": "fb6bfcb5-1637-4197-ecc0-7776ac10d2de"
      },
      "execution_count": 21,
      "outputs": [
        {
          "output_type": "execute_result",
          "data": {
            "text/plain": [
              "RandomForestRegressor()"
            ],
            "text/html": [
              "<style>#sk-container-id-1 {color: black;background-color: white;}#sk-container-id-1 pre{padding: 0;}#sk-container-id-1 div.sk-toggleable {background-color: white;}#sk-container-id-1 label.sk-toggleable__label {cursor: pointer;display: block;width: 100%;margin-bottom: 0;padding: 0.3em;box-sizing: border-box;text-align: center;}#sk-container-id-1 label.sk-toggleable__label-arrow:before {content: \"▸\";float: left;margin-right: 0.25em;color: #696969;}#sk-container-id-1 label.sk-toggleable__label-arrow:hover:before {color: black;}#sk-container-id-1 div.sk-estimator:hover label.sk-toggleable__label-arrow:before {color: black;}#sk-container-id-1 div.sk-toggleable__content {max-height: 0;max-width: 0;overflow: hidden;text-align: left;background-color: #f0f8ff;}#sk-container-id-1 div.sk-toggleable__content pre {margin: 0.2em;color: black;border-radius: 0.25em;background-color: #f0f8ff;}#sk-container-id-1 input.sk-toggleable__control:checked~div.sk-toggleable__content {max-height: 200px;max-width: 100%;overflow: auto;}#sk-container-id-1 input.sk-toggleable__control:checked~label.sk-toggleable__label-arrow:before {content: \"▾\";}#sk-container-id-1 div.sk-estimator input.sk-toggleable__control:checked~label.sk-toggleable__label {background-color: #d4ebff;}#sk-container-id-1 div.sk-label input.sk-toggleable__control:checked~label.sk-toggleable__label {background-color: #d4ebff;}#sk-container-id-1 input.sk-hidden--visually {border: 0;clip: rect(1px 1px 1px 1px);clip: rect(1px, 1px, 1px, 1px);height: 1px;margin: -1px;overflow: hidden;padding: 0;position: absolute;width: 1px;}#sk-container-id-1 div.sk-estimator {font-family: monospace;background-color: #f0f8ff;border: 1px dotted black;border-radius: 0.25em;box-sizing: border-box;margin-bottom: 0.5em;}#sk-container-id-1 div.sk-estimator:hover {background-color: #d4ebff;}#sk-container-id-1 div.sk-parallel-item::after {content: \"\";width: 100%;border-bottom: 1px solid gray;flex-grow: 1;}#sk-container-id-1 div.sk-label:hover label.sk-toggleable__label {background-color: #d4ebff;}#sk-container-id-1 div.sk-serial::before {content: \"\";position: absolute;border-left: 1px solid gray;box-sizing: border-box;top: 0;bottom: 0;left: 50%;z-index: 0;}#sk-container-id-1 div.sk-serial {display: flex;flex-direction: column;align-items: center;background-color: white;padding-right: 0.2em;padding-left: 0.2em;position: relative;}#sk-container-id-1 div.sk-item {position: relative;z-index: 1;}#sk-container-id-1 div.sk-parallel {display: flex;align-items: stretch;justify-content: center;background-color: white;position: relative;}#sk-container-id-1 div.sk-item::before, #sk-container-id-1 div.sk-parallel-item::before {content: \"\";position: absolute;border-left: 1px solid gray;box-sizing: border-box;top: 0;bottom: 0;left: 50%;z-index: -1;}#sk-container-id-1 div.sk-parallel-item {display: flex;flex-direction: column;z-index: 1;position: relative;background-color: white;}#sk-container-id-1 div.sk-parallel-item:first-child::after {align-self: flex-end;width: 50%;}#sk-container-id-1 div.sk-parallel-item:last-child::after {align-self: flex-start;width: 50%;}#sk-container-id-1 div.sk-parallel-item:only-child::after {width: 0;}#sk-container-id-1 div.sk-dashed-wrapped {border: 1px dashed gray;margin: 0 0.4em 0.5em 0.4em;box-sizing: border-box;padding-bottom: 0.4em;background-color: white;}#sk-container-id-1 div.sk-label label {font-family: monospace;font-weight: bold;display: inline-block;line-height: 1.2em;}#sk-container-id-1 div.sk-label-container {text-align: center;}#sk-container-id-1 div.sk-container {/* jupyter's `normalize.less` sets `[hidden] { display: none; }` but bootstrap.min.css set `[hidden] { display: none !important; }` so we also need the `!important` here to be able to override the default hidden behavior on the sphinx rendered scikit-learn.org. See: https://github.com/scikit-learn/scikit-learn/issues/21755 */display: inline-block !important;position: relative;}#sk-container-id-1 div.sk-text-repr-fallback {display: none;}</style><div id=\"sk-container-id-1\" class=\"sk-top-container\"><div class=\"sk-text-repr-fallback\"><pre>RandomForestRegressor()</pre><b>In a Jupyter environment, please rerun this cell to show the HTML representation or trust the notebook. <br />On GitHub, the HTML representation is unable to render, please try loading this page with nbviewer.org.</b></div><div class=\"sk-container\" hidden><div class=\"sk-item\"><div class=\"sk-estimator sk-toggleable\"><input class=\"sk-toggleable__control sk-hidden--visually\" id=\"sk-estimator-id-1\" type=\"checkbox\" checked><label for=\"sk-estimator-id-1\" class=\"sk-toggleable__label sk-toggleable__label-arrow\">RandomForestRegressor</label><div class=\"sk-toggleable__content\"><pre>RandomForestRegressor()</pre></div></div></div></div></div>"
            ]
          },
          "metadata": {},
          "execution_count": 21
        }
      ]
    },
    {
      "cell_type": "code",
      "source": [
        "y_pred = model.predict(x_val)"
      ],
      "metadata": {
        "id": "Lwy60kLSYMv9"
      },
      "execution_count": 22,
      "outputs": []
    },
    {
      "cell_type": "code",
      "source": [
        "from sklearn.metrics import mean_squared_error, r2_score\n",
        "\n",
        "mse = mean_squared_error(y_val, y_pred)\n",
        "r2 = r2_score (y_val, y_pred)"
      ],
      "metadata": {
        "id": "XLocEEVfYSDI"
      },
      "execution_count": 23,
      "outputs": []
    },
    {
      "cell_type": "code",
      "source": [
        "print(mse)"
      ],
      "metadata": {
        "colab": {
          "base_uri": "https://localhost:8080/"
        },
        "id": "pJiC_a7DYhFO",
        "outputId": "7a1f8c30-0d90-4ced-ad1f-1742f34601cf"
      },
      "execution_count": 24,
      "outputs": [
        {
          "output_type": "stream",
          "name": "stdout",
          "text": [
            "3683.0463760563375\n"
          ]
        }
      ]
    },
    {
      "cell_type": "code",
      "source": [
        "print(r2)"
      ],
      "metadata": {
        "colab": {
          "base_uri": "https://localhost:8080/"
        },
        "id": "EpgDc8b6YibQ",
        "outputId": "084ded81-b736-4efc-9190-2ea2f1aadf55"
      },
      "execution_count": 25,
      "outputs": [
        {
          "output_type": "stream",
          "name": "stdout",
          "text": [
            "0.2756114371832499\n"
          ]
        }
      ]
    },
    {
      "cell_type": "code",
      "source": [
        "rmse = mse**0.5\n",
        "print(rmse)"
      ],
      "metadata": {
        "colab": {
          "base_uri": "https://localhost:8080/"
        },
        "id": "h3aJGkYnYj3N",
        "outputId": "b60202ce-3eab-453b-aae3-041767069533"
      },
      "execution_count": 26,
      "outputs": [
        {
          "output_type": "stream",
          "name": "stdout",
          "text": [
            "60.68810736920651\n"
          ]
        }
      ]
    },
    {
      "cell_type": "code",
      "source": [
        "#pd.DataFrame({'cust_id': cust_id, 'target': y_result}).to_csv('00300000)"
      ],
      "metadata": {
        "id": "RzztPV8YYqBI"
      },
      "execution_count": 27,
      "outputs": []
    },
    {
      "cell_type": "code",
      "source": [
        "y_result = model.predict(x_test)\n",
        "result = pd.DataFrame({'cust id':cust_id, 'target': y_result})\n",
        "print(result[:5])"
      ],
      "metadata": {
        "colab": {
          "base_uri": "https://localhost:8080/"
        },
        "id": "EEm-nWiKgtkC",
        "outputId": "7b10fa75-4024-4a4c-f54a-446bd89cf293"
      },
      "execution_count": 28,
      "outputs": [
        {
          "output_type": "stream",
          "name": "stdout",
          "text": [
            "   cust id  target\n",
            "0      280  173.05\n",
            "1      412  247.12\n",
            "2       68   83.08\n",
            "3      324  175.36\n",
            "4      101   85.70\n"
          ]
        }
      ]
    },
    {
      "cell_type": "code",
      "source": [],
      "metadata": {
        "id": "aueKVga-g5--"
      },
      "execution_count": null,
      "outputs": []
    }
  ]
}