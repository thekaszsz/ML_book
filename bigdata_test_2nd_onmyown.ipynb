{
  "nbformat": 4,
  "nbformat_minor": 0,
  "metadata": {
    "colab": {
      "provenance": [],
      "authorship_tag": "ABX9TyNH+mEgC5bPL4FkcdZn9Alp",
      "include_colab_link": true
    },
    "kernelspec": {
      "name": "python3",
      "display_name": "Python 3"
    },
    "language_info": {
      "name": "python"
    }
  },
  "cells": [
    {
      "cell_type": "markdown",
      "metadata": {
        "id": "view-in-github",
        "colab_type": "text"
      },
      "source": [
        "<a href=\"https://colab.research.google.com/github/thekaszsz/ML_book/blob/main/bigdata_test_2nd_onmyown.ipynb\" target=\"_parent\"><img src=\"https://colab.research.google.com/assets/colab-badge.svg\" alt=\"Open In Colab\"/></a>"
      ]
    },
    {
      "cell_type": "code",
      "source": [
        "# 출력을 원하실 경우 print() 함수 활용\n",
        "# 예시) print(df.head())\n",
        "\n",
        "# getcwd(), chdir() 등 작업 폴더 설정 불필요\n",
        "# 파일 경로 상 내부 드라이브 경로(C: 등) 접근 불가\n",
        "\n",
        "import pandas as pd\n",
        "import numpy as np\n",
        "\n",
        "train = pd.read_csv(\"data/customer_train.csv\")\n",
        "test = pd.read_csv(\"data/customer_test.csv\")\n",
        "\n",
        "x_train = train.drop(['성별'], axis = 1)\n",
        "y_train = train['성별']\n",
        "x_test = test\n",
        "\n",
        "#print(x_train.isnull().sum())\n",
        "#print(x_test.isnull().sum())\n",
        "\n",
        "train_mean = x_train['환불금액'].mean()\n",
        "r_train_mean = round(train_mean)\n",
        "#print(r_train_mean)\n",
        "\n",
        "x_train['환불금액'] = x_train['환불금액'].fillna(r_train_mean)\n",
        "#print(x_train.isnull().sum())\n",
        "\n",
        "test_mean = x_test['환불금액'].mean()\n",
        "r_test_mean = round(test_mean)\n",
        "#print(r_test_mean)\n",
        "\n",
        "x_test['환불금액'] = x_test['환불금액'].fillna(r_test_mean)\n",
        "#print(x_test.isnull().sum())\n",
        "\n",
        "x_train = pd.get_dummies(x_train)\n",
        "x_test = pd.get_dummies(x_test)\n",
        "\n",
        "#x_test의 변수가 수가 더 많은 경우의 코드\n",
        "x_train = x_train.reindex(columns = x_test.columns, fill_value=0)\n",
        "\n",
        "\n",
        "from sklearn.model_selection import train_test_split\n",
        "x_train, x_val, y_train, y_val = train_test_split(x_train, y_train, test_size = 0.2, stratify = y_train, random_state = 2023)\n",
        "\n",
        "from sklearn.ensemble import RandomForestClassifier\n",
        "\n",
        "model = RandomForestClassifier()\n",
        "model.fit(x_train, y_train)\n",
        "\n",
        "y_pred = model.predict(x_val)\n",
        "\n",
        "from sklearn.metrics import f1_score, accuracy_score\n",
        "\n",
        "f1 = f1_score(y_val, y_pred)\n",
        "auc = accuracy_score(y_val, y_pred)\n",
        "\n",
        "#print(f1)\n",
        "#print(auc)\n",
        "\n",
        "y_result = model.predict(x_test)\n",
        "print(y_result[:5])\n",
        "\n",
        "pd.DataFrame({'pred' : y_result}).to_csv('result.csv', index=False)\n",
        "\n",
        "result = pd.read_csv('result.csv')\n",
        "print(result)\n",
        "\n",
        "# 사용자 코딩\n",
        "\n",
        "# 답안 제출 참고\n",
        "# 아래 코드는 예시이며 변수명 등 개인별로 변경하여 활용\n",
        "# pd.DataFrame변수.to_csv(\"result.csv\", index=False)\n"
      ],
      "metadata": {
        "id": "BvknmGJusWzB"
      },
      "execution_count": null,
      "outputs": []
    }
  ]
}