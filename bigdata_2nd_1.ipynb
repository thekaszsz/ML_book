{
  "nbformat": 4,
  "nbformat_minor": 0,
  "metadata": {
    "colab": {
      "provenance": [],
      "authorship_tag": "ABX9TyNikRFPELSRbKfhXCBCAzDP",
      "include_colab_link": true
    },
    "kernelspec": {
      "name": "python3",
      "display_name": "Python 3"
    },
    "language_info": {
      "name": "python"
    }
  },
  "cells": [
    {
      "cell_type": "markdown",
      "metadata": {
        "id": "view-in-github",
        "colab_type": "text"
      },
      "source": [
        "<a href=\"https://colab.research.google.com/github/thekaszsz/ML_book/blob/main/bigdata_2nd_1.ipynb\" target=\"_parent\"><img src=\"https://colab.research.google.com/assets/colab-badge.svg\" alt=\"Open In Colab\"/></a>"
      ]
    },
    {
      "cell_type": "markdown",
      "source": [
        "데이터 분석 순서\n",
        "\n",
        "1. 라이브러리 및 데이터 확인\n",
        "2. 데이터 탐색 (EDA)\n",
        "3. 데이터 전처리 및 분리\n",
        "4. 모델링 및 성능 평가\n",
        "5. 예측값 제출"
      ],
      "metadata": {
        "id": "dYk6VkNuF7SP"
      }
    },
    {
      "cell_type": "code",
      "execution_count": 1,
      "metadata": {
        "id": "XFcusxDykRct"
      },
      "outputs": [],
      "source": [
        "import pandas as pd\n",
        "import numpy as np"
      ]
    },
    {
      "cell_type": "code",
      "source": [
        "from sklearn.datasets import load_wine\n",
        "\n",
        "wine = load_wine()\n",
        "x = pd.DataFrame(wine.data, columns = wine.feature_names)\n",
        "y = pd.DataFrame(wine.target)\n",
        "\n",
        "from sklearn.model_selection import train_test_split\n",
        "x_train, x_test, y_train, y_test = train_test_split(x, y, test_size = 0.2, stratify = y, random_state = 2023)\n",
        "\n",
        "x_test = pd.DataFrame(x_test)\n",
        "x_train = pd.DataFrame(x_train)\n",
        "y_train = pd.DataFrame(y_train)\n",
        "\n",
        "x_test.reset_index()\n",
        "y_train.columns = ['target']"
      ],
      "metadata": {
        "id": "NdLMw88EGS8V"
      },
      "execution_count": 2,
      "outputs": []
    },
    {
      "cell_type": "markdown",
      "source": [
        "와인의 종류를 분류\n",
        "- 데이터의 결측치, 이상치에 대해 처리\n",
        "- 분류 모델을 사용하여 정확도, F1 Score, AUC값을 산출\n",
        "- 제출은 result 변수에 담기"
      ],
      "metadata": {
        "id": "tvLNh8XMIQxy"
      }
    },
    {
      "cell_type": "code",
      "source": [
        "print(wine.DESCR)"
      ],
      "metadata": {
        "colab": {
          "base_uri": "https://localhost:8080/"
        },
        "id": "iqOp_vdPIO_-",
        "outputId": "fe01cac9-c7d3-474c-dc37-20ac1279c98e"
      },
      "execution_count": 4,
      "outputs": [
        {
          "output_type": "stream",
          "name": "stdout",
          "text": [
            ".. _wine_dataset:\n",
            "\n",
            "Wine recognition dataset\n",
            "------------------------\n",
            "\n",
            "**Data Set Characteristics:**\n",
            "\n",
            "    :Number of Instances: 178\n",
            "    :Number of Attributes: 13 numeric, predictive attributes and the class\n",
            "    :Attribute Information:\n",
            " \t\t- Alcohol\n",
            " \t\t- Malic acid\n",
            " \t\t- Ash\n",
            "\t\t- Alcalinity of ash  \n",
            " \t\t- Magnesium\n",
            "\t\t- Total phenols\n",
            " \t\t- Flavanoids\n",
            " \t\t- Nonflavanoid phenols\n",
            " \t\t- Proanthocyanins\n",
            "\t\t- Color intensity\n",
            " \t\t- Hue\n",
            " \t\t- OD280/OD315 of diluted wines\n",
            " \t\t- Proline\n",
            "\n",
            "    - class:\n",
            "            - class_0\n",
            "            - class_1\n",
            "            - class_2\n",
            "\t\t\n",
            "    :Summary Statistics:\n",
            "    \n",
            "    ============================= ==== ===== ======= =====\n",
            "                                   Min   Max   Mean     SD\n",
            "    ============================= ==== ===== ======= =====\n",
            "    Alcohol:                      11.0  14.8    13.0   0.8\n",
            "    Malic Acid:                   0.74  5.80    2.34  1.12\n",
            "    Ash:                          1.36  3.23    2.36  0.27\n",
            "    Alcalinity of Ash:            10.6  30.0    19.5   3.3\n",
            "    Magnesium:                    70.0 162.0    99.7  14.3\n",
            "    Total Phenols:                0.98  3.88    2.29  0.63\n",
            "    Flavanoids:                   0.34  5.08    2.03  1.00\n",
            "    Nonflavanoid Phenols:         0.13  0.66    0.36  0.12\n",
            "    Proanthocyanins:              0.41  3.58    1.59  0.57\n",
            "    Colour Intensity:              1.3  13.0     5.1   2.3\n",
            "    Hue:                          0.48  1.71    0.96  0.23\n",
            "    OD280/OD315 of diluted wines: 1.27  4.00    2.61  0.71\n",
            "    Proline:                       278  1680     746   315\n",
            "    ============================= ==== ===== ======= =====\n",
            "\n",
            "    :Missing Attribute Values: None\n",
            "    :Class Distribution: class_0 (59), class_1 (71), class_2 (48)\n",
            "    :Creator: R.A. Fisher\n",
            "    :Donor: Michael Marshall (MARSHALL%PLU@io.arc.nasa.gov)\n",
            "    :Date: July, 1988\n",
            "\n",
            "This is a copy of UCI ML Wine recognition datasets.\n",
            "https://archive.ics.uci.edu/ml/machine-learning-databases/wine/wine.data\n",
            "\n",
            "The data is the results of a chemical analysis of wines grown in the same\n",
            "region in Italy by three different cultivators. There are thirteen different\n",
            "measurements taken for different constituents found in the three types of\n",
            "wine.\n",
            "\n",
            "Original Owners: \n",
            "\n",
            "Forina, M. et al, PARVUS - \n",
            "An Extendible Package for Data Exploration, Classification and Correlation. \n",
            "Institute of Pharmaceutical and Food Analysis and Technologies,\n",
            "Via Brigata Salerno, 16147 Genoa, Italy.\n",
            "\n",
            "Citation:\n",
            "\n",
            "Lichman, M. (2013). UCI Machine Learning Repository\n",
            "[https://archive.ics.uci.edu/ml]. Irvine, CA: University of California,\n",
            "School of Information and Computer Science. \n",
            "\n",
            ".. topic:: References\n",
            "\n",
            "  (1) S. Aeberhard, D. Coomans and O. de Vel, \n",
            "  Comparison of Classifiers in High Dimensional Settings, \n",
            "  Tech. Rep. no. 92-02, (1992), Dept. of Computer Science and Dept. of  \n",
            "  Mathematics and Statistics, James Cook University of North Queensland. \n",
            "  (Also submitted to Technometrics). \n",
            "\n",
            "  The data was used with many others for comparing various \n",
            "  classifiers. The classes are separable, though only RDA \n",
            "  has achieved 100% correct classification. \n",
            "  (RDA : 100%, QDA 99.4%, LDA 98.9%, 1NN 96.1% (z-transformed data)) \n",
            "  (All results using the leave-one-out technique) \n",
            "\n",
            "  (2) S. Aeberhard, D. Coomans and O. de Vel, \n",
            "  \"THE CLASSIFICATION PERFORMANCE OF RDA\" \n",
            "  Tech. Rep. no. 92-01, (1992), Dept. of Computer Science and Dept. of \n",
            "  Mathematics and Statistics, James Cook University of North Queensland. \n",
            "  (Also submitted to Journal of Chemometrics).\n",
            "\n"
          ]
        }
      ]
    },
    {
      "cell_type": "code",
      "source": [
        "print(x_train.shape)\n",
        "print(x_test.shape)\n",
        "print(y_train.shape)"
      ],
      "metadata": {
        "colab": {
          "base_uri": "https://localhost:8080/"
        },
        "id": "kucDX6mtIjuG",
        "outputId": "61c9cac7-c93d-4dd0-84cd-77a8842a3752"
      },
      "execution_count": 7,
      "outputs": [
        {
          "output_type": "stream",
          "name": "stdout",
          "text": [
            "(142, 13)\n",
            "(36, 13)\n",
            "(142, 1)\n"
          ]
        }
      ]
    },
    {
      "cell_type": "code",
      "source": [
        "print(x_train.head(3))\n",
        "print(x_test.head(3))\n",
        "print(y_train.head(3))"
      ],
      "metadata": {
        "colab": {
          "base_uri": "https://localhost:8080/"
        },
        "id": "yV5RRx7hIxBL",
        "outputId": "83c73fd0-f906-4852-b2c3-a086b419d665"
      },
      "execution_count": 8,
      "outputs": [
        {
          "output_type": "stream",
          "name": "stdout",
          "text": [
            "     alcohol  malic_acid   ash  alcalinity_of_ash  magnesium  total_phenols  \\\n",
            "52     13.82        1.75  2.42               14.0      111.0           3.88   \n",
            "146    13.88        5.04  2.23               20.0       80.0           0.98   \n",
            "44     13.05        1.77  2.10               17.0      107.0           3.00   \n",
            "\n",
            "     flavanoids  nonflavanoid_phenols  proanthocyanins  color_intensity   hue  \\\n",
            "52         3.74                  0.32             1.87             7.05  1.01   \n",
            "146        0.34                  0.40             0.68             4.90  0.58   \n",
            "44         3.00                  0.28             2.03             5.04  0.88   \n",
            "\n",
            "     od280/od315_of_diluted_wines  proline  \n",
            "52                           3.26   1190.0  \n",
            "146                          1.33    415.0  \n",
            "44                           3.35    885.0  \n",
            "     alcohol  malic_acid   ash  alcalinity_of_ash  magnesium  total_phenols  \\\n",
            "168    13.58        2.58  2.69               24.5      105.0           1.55   \n",
            "144    12.25        3.88  2.20               18.5      112.0           1.38   \n",
            "151    12.79        2.67  2.48               22.0      112.0           1.48   \n",
            "\n",
            "     flavanoids  nonflavanoid_phenols  proanthocyanins  color_intensity   hue  \\\n",
            "168        0.84                  0.39             1.54             8.66  0.74   \n",
            "144        0.78                  0.29             1.14             8.21  0.65   \n",
            "151        1.36                  0.24             1.26            10.80  0.48   \n",
            "\n",
            "     od280/od315_of_diluted_wines  proline  \n",
            "168                          1.80    750.0  \n",
            "144                          2.00    855.0  \n",
            "151                          1.47    480.0  \n",
            "     target\n",
            "52        0\n",
            "146       2\n",
            "44        0\n"
          ]
        }
      ]
    },
    {
      "cell_type": "code",
      "source": [
        "print(x_train.info(3))\n",
        "print(x_test.info(3))\n",
        "print(y_train.info(3))"
      ],
      "metadata": {
        "colab": {
          "base_uri": "https://localhost:8080/"
        },
        "id": "LJyCDqc9JD-8",
        "outputId": "351e6709-9691-42a2-abd7-e41a7411db07"
      },
      "execution_count": 9,
      "outputs": [
        {
          "output_type": "stream",
          "name": "stdout",
          "text": [
            "<class 'pandas.core.frame.DataFrame'>\n",
            "Int64Index: 142 entries, 52 to 115\n",
            "Data columns (total 13 columns):\n",
            " #   Column                        Non-Null Count  Dtype  \n",
            "---  ------                        --------------  -----  \n",
            " 0   alcohol                       142 non-null    float64\n",
            " 1   malic_acid                    142 non-null    float64\n",
            " 2   ash                           142 non-null    float64\n",
            " 3   alcalinity_of_ash             142 non-null    float64\n",
            " 4   magnesium                     142 non-null    float64\n",
            " 5   total_phenols                 142 non-null    float64\n",
            " 6   flavanoids                    142 non-null    float64\n",
            " 7   nonflavanoid_phenols          142 non-null    float64\n",
            " 8   proanthocyanins               142 non-null    float64\n",
            " 9   color_intensity               142 non-null    float64\n",
            " 10  hue                           142 non-null    float64\n",
            " 11  od280/od315_of_diluted_wines  142 non-null    float64\n",
            " 12  proline                       142 non-null    float64\n",
            "dtypes: float64(13)\n",
            "memory usage: 15.5 KB\n",
            "None\n",
            "<class 'pandas.core.frame.DataFrame'>\n",
            "Int64Index: 36 entries, 168 to 55\n",
            "Data columns (total 13 columns):\n",
            " #   Column                        Non-Null Count  Dtype  \n",
            "---  ------                        --------------  -----  \n",
            " 0   alcohol                       36 non-null     float64\n",
            " 1   malic_acid                    36 non-null     float64\n",
            " 2   ash                           36 non-null     float64\n",
            " 3   alcalinity_of_ash             36 non-null     float64\n",
            " 4   magnesium                     36 non-null     float64\n",
            " 5   total_phenols                 36 non-null     float64\n",
            " 6   flavanoids                    36 non-null     float64\n",
            " 7   nonflavanoid_phenols          36 non-null     float64\n",
            " 8   proanthocyanins               36 non-null     float64\n",
            " 9   color_intensity               36 non-null     float64\n",
            " 10  hue                           36 non-null     float64\n",
            " 11  od280/od315_of_diluted_wines  36 non-null     float64\n",
            " 12  proline                       36 non-null     float64\n",
            "dtypes: float64(13)\n",
            "memory usage: 3.9 KB\n",
            "None\n",
            "<class 'pandas.core.frame.DataFrame'>\n",
            "Int64Index: 142 entries, 52 to 115\n",
            "Data columns (total 1 columns):\n",
            " #   Column  Non-Null Count  Dtype\n",
            "---  ------  --------------  -----\n",
            " 0   target  142 non-null    int64\n",
            "dtypes: int64(1)\n",
            "memory usage: 2.2 KB\n",
            "None\n"
          ]
        }
      ]
    },
    {
      "cell_type": "code",
      "source": [
        "print(x_train.describe().T)\n",
        "print(x_test.describe().T)\n",
        "print(y_train.describe().T)"
      ],
      "metadata": {
        "colab": {
          "base_uri": "https://localhost:8080/"
        },
        "id": "ihxIWa5jJIzL",
        "outputId": "bd826903-0276-4b8b-bcab-950bc0472d6d"
      },
      "execution_count": 10,
      "outputs": [
        {
          "output_type": "stream",
          "name": "stdout",
          "text": [
            "                              count        mean         std     min       25%  \\\n",
            "alcohol                       142.0   13.025915    0.812423   11.03   12.3700   \n",
            "malic_acid                    142.0    2.354296    1.142722    0.74    1.6100   \n",
            "ash                           142.0    2.340211    0.279910    1.36    2.1900   \n",
            "alcalinity_of_ash             142.0   19.354225    3.476825   10.60   16.8000   \n",
            "magnesium                     142.0   98.732394   13.581859   70.00   88.0000   \n",
            "total_phenols                 142.0    2.303592    0.633955    0.98    1.7575   \n",
            "flavanoids                    142.0    2.043592    1.033597    0.34    1.2275   \n",
            "nonflavanoid_phenols          142.0    0.361479    0.124627    0.14    0.2700   \n",
            "proanthocyanins               142.0    1.575070    0.576798    0.41    1.2425   \n",
            "color_intensity               142.0    5.005070    2.150186    1.28    3.3000   \n",
            "hue                           142.0    0.950394    0.220736    0.54    0.7825   \n",
            "od280/od315_of_diluted_wines  142.0    2.603592    0.709751    1.27    1.9225   \n",
            "proline                       142.0  742.112676  317.057395  290.00  496.2500   \n",
            "\n",
            "                                  50%       75%      max  \n",
            "alcohol                        13.050   13.6850    14.83  \n",
            "malic_acid                      1.820    3.1150     5.80  \n",
            "ash                             2.320    2.5100     3.23  \n",
            "alcalinity_of_ash              19.300   21.5000    30.00  \n",
            "magnesium                      97.000  106.7500   151.00  \n",
            "total_phenols                   2.335    2.8000     3.88  \n",
            "flavanoids                      2.100    2.9175     5.08  \n",
            "nonflavanoid_phenols            0.325    0.4375     0.63  \n",
            "proanthocyanins                 1.555    1.9500     3.58  \n",
            "color_intensity                 4.850    6.1225    13.00  \n",
            "hue                             0.960    1.0975     1.71  \n",
            "od280/od315_of_diluted_wines    2.780    3.1700     3.92  \n",
            "proline                       660.000  981.2500  1680.00  \n",
            "                              count        mean         std     min       25%  \\\n",
            "alcohol                        36.0   12.900833    0.813112   11.64   12.2300   \n",
            "malic_acid                     36.0    2.265556    1.021943    0.89    1.5925   \n",
            "ash                            36.0    2.470278    0.226066    2.00    2.3000   \n",
            "alcalinity_of_ash              36.0   20.050000    2.702750   14.60   18.0000   \n",
            "magnesium                      36.0  103.722222   16.371772   84.00   91.5000   \n",
            "total_phenols                  36.0    2.261667    0.600259    1.35    1.7150   \n",
            "flavanoids                     36.0    1.972778    0.858882    0.66    1.1750   \n",
            "nonflavanoid_phenols           36.0    0.363333    0.125516    0.13    0.2675   \n",
            "proanthocyanins                36.0    1.653333    0.558012    0.84    1.3200   \n",
            "color_intensity                36.0    5.267222    2.915076    2.08    2.8750   \n",
            "hue                            36.0    0.985278    0.258694    0.48    0.7875   \n",
            "od280/od315_of_diluted_wines   36.0    2.643611    0.720100    1.29    2.0375   \n",
            "proline                        36.0  765.750000  309.948510  278.00  542.5000   \n",
            "\n",
            "                                  50%       75%      max  \n",
            "alcohol                        12.835   13.6350    14.39  \n",
            "malic_acid                      1.885    2.7925     4.95  \n",
            "ash                             2.470    2.6050     3.22  \n",
            "alcalinity_of_ash              19.500   21.7000    26.50  \n",
            "magnesium                     101.000  112.0000   162.00  \n",
            "total_phenols                   2.420    2.6025     3.85  \n",
            "flavanoids                      2.175    2.6825     3.49  \n",
            "nonflavanoid_phenols            0.395    0.4350     0.66  \n",
            "proanthocyanins                 1.550    1.9725     3.28  \n",
            "color_intensity                 4.325    6.9000    11.75  \n",
            "hue                             0.985    1.1675     1.45  \n",
            "od280/od315_of_diluted_wines    2.790    3.1925     4.00  \n",
            "proline                       682.500  996.2500  1480.00  \n",
            "        count     mean       std  min  25%  50%  75%  max\n",
            "target  142.0  0.93662  0.773816  0.0  0.0  1.0  2.0  2.0\n"
          ]
        }
      ]
    },
    {
      "cell_type": "code",
      "source": [
        "print(y_train.head())"
      ],
      "metadata": {
        "colab": {
          "base_uri": "https://localhost:8080/"
        },
        "id": "xZClW7-IJc6b",
        "outputId": "47c92ff9-080f-49fc-f5b7-23847fbf1c45"
      },
      "execution_count": 11,
      "outputs": [
        {
          "output_type": "stream",
          "name": "stdout",
          "text": [
            "     target\n",
            "52        0\n",
            "146       2\n",
            "44        0\n",
            "67        1\n",
            "43        0\n"
          ]
        }
      ]
    },
    {
      "cell_type": "code",
      "source": [
        "print(y_train.value_counts())"
      ],
      "metadata": {
        "colab": {
          "base_uri": "https://localhost:8080/"
        },
        "id": "uJP4r-NkKPQi",
        "outputId": "091c5bca-c78f-4015-da3b-dc599cce8594"
      },
      "execution_count": 12,
      "outputs": [
        {
          "output_type": "stream",
          "name": "stdout",
          "text": [
            "target\n",
            "1         57\n",
            "0         47\n",
            "2         38\n",
            "dtype: int64\n"
          ]
        }
      ]
    },
    {
      "cell_type": "markdown",
      "source": [
        "데이터 전처리 및 분리\n",
        "1) 결측치 2) 이상치 3) 변수 처리"
      ],
      "metadata": {
        "id": "rd8bz46oNCIt"
      }
    },
    {
      "cell_type": "code",
      "source": [
        "print(x_train.isnull().sum())\n",
        "print(x_test.isnull().sum())\n",
        "print(y_train.isnull().sum())"
      ],
      "metadata": {
        "colab": {
          "base_uri": "https://localhost:8080/"
        },
        "id": "Nh-52IyZKS4b",
        "outputId": "04a12259-ff14-44f4-9539-e5357f5d1264"
      },
      "execution_count": 13,
      "outputs": [
        {
          "output_type": "stream",
          "name": "stdout",
          "text": [
            "alcohol                         0\n",
            "malic_acid                      0\n",
            "ash                             0\n",
            "alcalinity_of_ash               0\n",
            "magnesium                       0\n",
            "total_phenols                   0\n",
            "flavanoids                      0\n",
            "nonflavanoid_phenols            0\n",
            "proanthocyanins                 0\n",
            "color_intensity                 0\n",
            "hue                             0\n",
            "od280/od315_of_diluted_wines    0\n",
            "proline                         0\n",
            "dtype: int64\n",
            "alcohol                         0\n",
            "malic_acid                      0\n",
            "ash                             0\n",
            "alcalinity_of_ash               0\n",
            "magnesium                       0\n",
            "total_phenols                   0\n",
            "flavanoids                      0\n",
            "nonflavanoid_phenols            0\n",
            "proanthocyanins                 0\n",
            "color_intensity                 0\n",
            "hue                             0\n",
            "od280/od315_of_diluted_wines    0\n",
            "proline                         0\n",
            "dtype: int64\n",
            "target    0\n",
            "dtype: int64\n"
          ]
        }
      ]
    },
    {
      "cell_type": "code",
      "source": [
        "#원핫인코딩\n",
        "#x_train = pd.get_dummies(x_train)\n",
        "#x_test = pd.get_dummies(x_test)"
      ],
      "metadata": {
        "id": "44cQunCqNQTt"
      },
      "execution_count": 14,
      "outputs": []
    },
    {
      "cell_type": "code",
      "source": [
        "from sklearn.model_selection import train_test_split\n",
        "\n",
        "x_train, x_val, y_train, y_val = train_test_split(x_train, y_train['target'],test_size = 0.2, stratify = y_train['target'], random_state = 2023)\n",
        "\n",
        "print(x_train.shape)\n",
        "print(x_val.shape)\n",
        "print(y_train.shape)\n",
        "print(y_val.shape)"
      ],
      "metadata": {
        "colab": {
          "base_uri": "https://localhost:8080/"
        },
        "id": "yTZ0WWQKN_3e",
        "outputId": "2b99f7f0-8410-4365-f8af-e4c71acac811"
      },
      "execution_count": 16,
      "outputs": [
        {
          "output_type": "stream",
          "name": "stdout",
          "text": [
            "(113, 13)\n",
            "(29, 13)\n",
            "(113,)\n",
            "(29,)\n"
          ]
        }
      ]
    },
    {
      "cell_type": "code",
      "source": [
        "from sklearn.ensemble import RandomForestClassifier\n",
        "model = RandomForestClassifier()\n",
        "model.fit(x_train, y_train)"
      ],
      "metadata": {
        "colab": {
          "base_uri": "https://localhost:8080/",
          "height": 75
        },
        "id": "aMYTqGe_O_Fi",
        "outputId": "83b511e4-45df-4a38-fb1c-305a1b41d2b1"
      },
      "execution_count": 17,
      "outputs": [
        {
          "output_type": "execute_result",
          "data": {
            "text/plain": [
              "RandomForestClassifier()"
            ],
            "text/html": [
              "<style>#sk-container-id-1 {color: black;background-color: white;}#sk-container-id-1 pre{padding: 0;}#sk-container-id-1 div.sk-toggleable {background-color: white;}#sk-container-id-1 label.sk-toggleable__label {cursor: pointer;display: block;width: 100%;margin-bottom: 0;padding: 0.3em;box-sizing: border-box;text-align: center;}#sk-container-id-1 label.sk-toggleable__label-arrow:before {content: \"▸\";float: left;margin-right: 0.25em;color: #696969;}#sk-container-id-1 label.sk-toggleable__label-arrow:hover:before {color: black;}#sk-container-id-1 div.sk-estimator:hover label.sk-toggleable__label-arrow:before {color: black;}#sk-container-id-1 div.sk-toggleable__content {max-height: 0;max-width: 0;overflow: hidden;text-align: left;background-color: #f0f8ff;}#sk-container-id-1 div.sk-toggleable__content pre {margin: 0.2em;color: black;border-radius: 0.25em;background-color: #f0f8ff;}#sk-container-id-1 input.sk-toggleable__control:checked~div.sk-toggleable__content {max-height: 200px;max-width: 100%;overflow: auto;}#sk-container-id-1 input.sk-toggleable__control:checked~label.sk-toggleable__label-arrow:before {content: \"▾\";}#sk-container-id-1 div.sk-estimator input.sk-toggleable__control:checked~label.sk-toggleable__label {background-color: #d4ebff;}#sk-container-id-1 div.sk-label input.sk-toggleable__control:checked~label.sk-toggleable__label {background-color: #d4ebff;}#sk-container-id-1 input.sk-hidden--visually {border: 0;clip: rect(1px 1px 1px 1px);clip: rect(1px, 1px, 1px, 1px);height: 1px;margin: -1px;overflow: hidden;padding: 0;position: absolute;width: 1px;}#sk-container-id-1 div.sk-estimator {font-family: monospace;background-color: #f0f8ff;border: 1px dotted black;border-radius: 0.25em;box-sizing: border-box;margin-bottom: 0.5em;}#sk-container-id-1 div.sk-estimator:hover {background-color: #d4ebff;}#sk-container-id-1 div.sk-parallel-item::after {content: \"\";width: 100%;border-bottom: 1px solid gray;flex-grow: 1;}#sk-container-id-1 div.sk-label:hover label.sk-toggleable__label {background-color: #d4ebff;}#sk-container-id-1 div.sk-serial::before {content: \"\";position: absolute;border-left: 1px solid gray;box-sizing: border-box;top: 0;bottom: 0;left: 50%;z-index: 0;}#sk-container-id-1 div.sk-serial {display: flex;flex-direction: column;align-items: center;background-color: white;padding-right: 0.2em;padding-left: 0.2em;position: relative;}#sk-container-id-1 div.sk-item {position: relative;z-index: 1;}#sk-container-id-1 div.sk-parallel {display: flex;align-items: stretch;justify-content: center;background-color: white;position: relative;}#sk-container-id-1 div.sk-item::before, #sk-container-id-1 div.sk-parallel-item::before {content: \"\";position: absolute;border-left: 1px solid gray;box-sizing: border-box;top: 0;bottom: 0;left: 50%;z-index: -1;}#sk-container-id-1 div.sk-parallel-item {display: flex;flex-direction: column;z-index: 1;position: relative;background-color: white;}#sk-container-id-1 div.sk-parallel-item:first-child::after {align-self: flex-end;width: 50%;}#sk-container-id-1 div.sk-parallel-item:last-child::after {align-self: flex-start;width: 50%;}#sk-container-id-1 div.sk-parallel-item:only-child::after {width: 0;}#sk-container-id-1 div.sk-dashed-wrapped {border: 1px dashed gray;margin: 0 0.4em 0.5em 0.4em;box-sizing: border-box;padding-bottom: 0.4em;background-color: white;}#sk-container-id-1 div.sk-label label {font-family: monospace;font-weight: bold;display: inline-block;line-height: 1.2em;}#sk-container-id-1 div.sk-label-container {text-align: center;}#sk-container-id-1 div.sk-container {/* jupyter's `normalize.less` sets `[hidden] { display: none; }` but bootstrap.min.css set `[hidden] { display: none !important; }` so we also need the `!important` here to be able to override the default hidden behavior on the sphinx rendered scikit-learn.org. See: https://github.com/scikit-learn/scikit-learn/issues/21755 */display: inline-block !important;position: relative;}#sk-container-id-1 div.sk-text-repr-fallback {display: none;}</style><div id=\"sk-container-id-1\" class=\"sk-top-container\"><div class=\"sk-text-repr-fallback\"><pre>RandomForestClassifier()</pre><b>In a Jupyter environment, please rerun this cell to show the HTML representation or trust the notebook. <br />On GitHub, the HTML representation is unable to render, please try loading this page with nbviewer.org.</b></div><div class=\"sk-container\" hidden><div class=\"sk-item\"><div class=\"sk-estimator sk-toggleable\"><input class=\"sk-toggleable__control sk-hidden--visually\" id=\"sk-estimator-id-1\" type=\"checkbox\" checked><label for=\"sk-estimator-id-1\" class=\"sk-toggleable__label sk-toggleable__label-arrow\">RandomForestClassifier</label><div class=\"sk-toggleable__content\"><pre>RandomForestClassifier()</pre></div></div></div></div></div>"
            ]
          },
          "metadata": {},
          "execution_count": 17
        }
      ]
    },
    {
      "cell_type": "code",
      "source": [
        "y_pred = model.predict(x_val)"
      ],
      "metadata": {
        "id": "FNK5KRz4PQGh"
      },
      "execution_count": 18,
      "outputs": []
    },
    {
      "cell_type": "code",
      "source": [
        "from sklearn.metrics import accuracy_score, f1_score, recall_score, precision_score, roc_auc_score\n",
        "\n",
        "acc = accuracy_score(y_val, y_pred)\n",
        "f1 = f1_score(y_val, y_pred, average = 'macro')\n",
        "#auc = roc_auc_score(y_val, y_pred) #auc는 이진분류"
      ],
      "metadata": {
        "id": "0GodWk2PPZiB"
      },
      "execution_count": 20,
      "outputs": []
    },
    {
      "cell_type": "code",
      "source": [
        "print(acc)"
      ],
      "metadata": {
        "colab": {
          "base_uri": "https://localhost:8080/"
        },
        "id": "YD_OsOOiP50R",
        "outputId": "93ade67e-ee54-4f7f-cd0e-dff42e79cc56"
      },
      "execution_count": 21,
      "outputs": [
        {
          "output_type": "stream",
          "name": "stdout",
          "text": [
            "1.0\n"
          ]
        }
      ]
    },
    {
      "cell_type": "code",
      "source": [
        "print(f1)"
      ],
      "metadata": {
        "colab": {
          "base_uri": "https://localhost:8080/"
        },
        "id": "nANspzJjQXLk",
        "outputId": "6aed7824-d19d-4501-d428-ba1ba178c816"
      },
      "execution_count": 22,
      "outputs": [
        {
          "output_type": "stream",
          "name": "stdout",
          "text": [
            "1.0\n"
          ]
        }
      ]
    },
    {
      "cell_type": "code",
      "source": [
        "#1. 특정 클래스로 분류할 경우 (predict)\n",
        "y_result = model.predict(x_test)\n",
        "print(y_result[:5])"
      ],
      "metadata": {
        "colab": {
          "base_uri": "https://localhost:8080/"
        },
        "id": "Rw0hhFHhQYeT",
        "outputId": "64b83d38-dee8-4b53-b1a7-f315fa87a82f"
      },
      "execution_count": 24,
      "outputs": [
        {
          "output_type": "stream",
          "name": "stdout",
          "text": [
            "[2 2 2 0 1]\n"
          ]
        }
      ]
    },
    {
      "cell_type": "code",
      "source": [
        "#2. 특정 클래스로 분류될 확률을 구할 경우 (predict_proba)\n",
        "y_result_prob = model.predict_proba(x_test)\n",
        "print(y_result_prob[:5])"
      ],
      "metadata": {
        "colab": {
          "base_uri": "https://localhost:8080/"
        },
        "id": "5w7J0IWRQ2HC",
        "outputId": "e89a36c6-9275-402b-929e-1adbb9c7ba15"
      },
      "execution_count": 26,
      "outputs": [
        {
          "output_type": "stream",
          "name": "stdout",
          "text": [
            "[[0.03 0.05 0.92]\n",
            " [0.1  0.13 0.77]\n",
            " [0.01 0.08 0.91]\n",
            " [0.97 0.03 0.  ]\n",
            " [0.02 0.93 0.05]]\n"
          ]
        }
      ]
    },
    {
      "cell_type": "code",
      "source": [
        "#이해해보기\n",
        "result_prob = pd.DataFrame({\n",
        "    'result' : y_result,\n",
        "    'prob_0' : y_result_prob[:,0],\n",
        "    'prob_1' : y_result_prob[:,1],\n",
        "    'prob_2' : y_result_prob[:,2]\n",
        "})\n",
        "\n",
        "print(result_prob[:5])"
      ],
      "metadata": {
        "colab": {
          "base_uri": "https://localhost:8080/"
        },
        "id": "W9oTCjF_RDOg",
        "outputId": "86d6d6f8-7944-4ecb-95e6-7eb453f06e56"
      },
      "execution_count": 27,
      "outputs": [
        {
          "output_type": "stream",
          "name": "stdout",
          "text": [
            "   result  prob_0  prob_1  prob_2\n",
            "0       2    0.03    0.05    0.92\n",
            "1       2    0.10    0.13    0.77\n",
            "2       2    0.01    0.08    0.91\n",
            "3       0    0.97    0.03    0.00\n",
            "4       1    0.02    0.93    0.05\n"
          ]
        }
      ]
    },
    {
      "cell_type": "code",
      "source": [
        "#pd.DataFrame({'result' : y_result}).to_csv('수험번호.csv', index=False)"
      ],
      "metadata": {
        "id": "rQkyd8S-SBD3"
      },
      "execution_count": 28,
      "outputs": []
    },
    {
      "cell_type": "code",
      "source": [],
      "metadata": {
        "id": "Mr_6QYdCSZXF"
      },
      "execution_count": null,
      "outputs": []
    }
  ]
}