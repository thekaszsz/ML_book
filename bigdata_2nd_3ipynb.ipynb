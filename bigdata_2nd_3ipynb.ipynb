{
  "nbformat": 4,
  "nbformat_minor": 0,
  "metadata": {
    "colab": {
      "provenance": [],
      "authorship_tag": "ABX9TyOv+9q7f5hzvWn5+hXPoKrl",
      "include_colab_link": true
    },
    "kernelspec": {
      "name": "python3",
      "display_name": "Python 3"
    },
    "language_info": {
      "name": "python"
    }
  },
  "cells": [
    {
      "cell_type": "markdown",
      "metadata": {
        "id": "view-in-github",
        "colab_type": "text"
      },
      "source": [
        "<a href=\"https://colab.research.google.com/github/thekaszsz/ML_book/blob/main/bigdata_2nd_3ipynb.ipynb\" target=\"_parent\"><img src=\"https://colab.research.google.com/assets/colab-badge.svg\" alt=\"Open In Colab\"/></a>"
      ]
    },
    {
      "cell_type": "code",
      "execution_count": 1,
      "metadata": {
        "id": "iynA_V4phMLt"
      },
      "outputs": [],
      "source": [
        "import pandas as pd\n",
        "import numpy as np"
      ]
    },
    {
      "cell_type": "code",
      "source": [
        "import seaborn as sns\n",
        "\n",
        "df = sns.load_dataset('tips')\n",
        "\n",
        "x = df.drop(['tip'], axis = 1)\n",
        "y = df['tip']"
      ],
      "metadata": {
        "id": "btLNcgBEhZik"
      },
      "execution_count": 3,
      "outputs": []
    },
    {
      "cell_type": "code",
      "source": [
        "from sklearn.model_selection import train_test_split\n",
        "\n",
        "x_train, x_test, y_train, y_test = train_test_split(x, y, random_state = 2023, test_size = 0.2)\n",
        "\n",
        "x_test = pd.DataFrame(x_test.reset_index())\n",
        "x_train = pd.DataFrame(x_train.reset_index())\n",
        "y_train = pd.DataFrame(y_train.reset_index())\n",
        "\n",
        "x_test.rename(columns = {'index':'cust_id'}, inplace=True)\n",
        "x_train.rename(columns = {'index':'cust_id'}, inplace=True)\n",
        "y_train.columns = ['cust_id','target']\n"
      ],
      "metadata": {
        "id": "IenW9dZYhlOv"
      },
      "execution_count": 5,
      "outputs": []
    },
    {
      "cell_type": "code",
      "source": [
        "print(x_train.shape)\n",
        "print(x_test.shape)\n",
        "print(y_train.shape)"
      ],
      "metadata": {
        "colab": {
          "base_uri": "https://localhost:8080/"
        },
        "id": "s3u93fw2iBhv",
        "outputId": "64e334d9-b82c-48de-c6a9-7e9c0803822a"
      },
      "execution_count": 6,
      "outputs": [
        {
          "output_type": "stream",
          "name": "stdout",
          "text": [
            "(195, 7)\n",
            "(49, 7)\n",
            "(195, 2)\n"
          ]
        }
      ]
    },
    {
      "cell_type": "code",
      "source": [
        "print(x_train.head(3))\n",
        "print(x_test.head(3))\n",
        "print(y_train.head(3))"
      ],
      "metadata": {
        "colab": {
          "base_uri": "https://localhost:8080/"
        },
        "id": "KRPbwSUEixTl",
        "outputId": "7d9d48d3-8364-4a02-ca5a-a844c5f7ae5c"
      },
      "execution_count": 7,
      "outputs": [
        {
          "output_type": "stream",
          "name": "stdout",
          "text": [
            "   cust_id  total_bill     sex smoker  day    time  size\n",
            "0      158       13.39  Female     No  Sun  Dinner     2\n",
            "1      186       20.90  Female    Yes  Sun  Dinner     3\n",
            "2       21       20.29  Female     No  Sat  Dinner     2\n",
            "   cust_id  total_bill     sex smoker  day    time  size\n",
            "0      154       19.77    Male     No  Sun  Dinner     4\n",
            "1        4       24.59  Female     No  Sun  Dinner     4\n",
            "2       30        9.55    Male     No  Sat  Dinner     2\n",
            "   cust_id  target\n",
            "0      158    2.61\n",
            "1      186    3.50\n",
            "2       21    2.75\n"
          ]
        }
      ]
    },
    {
      "cell_type": "code",
      "source": [
        "print(x_train.info())\n",
        "print(x_test.info())\n",
        "print(y_train.info())"
      ],
      "metadata": {
        "colab": {
          "base_uri": "https://localhost:8080/"
        },
        "id": "bVzN06Vhi17d",
        "outputId": "45d98c4b-8015-4fe2-80ea-ba2f1c965e00"
      },
      "execution_count": 8,
      "outputs": [
        {
          "output_type": "stream",
          "name": "stdout",
          "text": [
            "<class 'pandas.core.frame.DataFrame'>\n",
            "RangeIndex: 195 entries, 0 to 194\n",
            "Data columns (total 7 columns):\n",
            " #   Column      Non-Null Count  Dtype   \n",
            "---  ------      --------------  -----   \n",
            " 0   cust_id     195 non-null    int64   \n",
            " 1   total_bill  195 non-null    float64 \n",
            " 2   sex         195 non-null    category\n",
            " 3   smoker      195 non-null    category\n",
            " 4   day         195 non-null    category\n",
            " 5   time        195 non-null    category\n",
            " 6   size        195 non-null    int64   \n",
            "dtypes: category(4), float64(1), int64(2)\n",
            "memory usage: 6.0 KB\n",
            "None\n",
            "<class 'pandas.core.frame.DataFrame'>\n",
            "RangeIndex: 49 entries, 0 to 48\n",
            "Data columns (total 7 columns):\n",
            " #   Column      Non-Null Count  Dtype   \n",
            "---  ------      --------------  -----   \n",
            " 0   cust_id     49 non-null     int64   \n",
            " 1   total_bill  49 non-null     float64 \n",
            " 2   sex         49 non-null     category\n",
            " 3   smoker      49 non-null     category\n",
            " 4   day         49 non-null     category\n",
            " 5   time        49 non-null     category\n",
            " 6   size        49 non-null     int64   \n",
            "dtypes: category(4), float64(1), int64(2)\n",
            "memory usage: 2.0 KB\n",
            "None\n",
            "<class 'pandas.core.frame.DataFrame'>\n",
            "RangeIndex: 195 entries, 0 to 194\n",
            "Data columns (total 2 columns):\n",
            " #   Column   Non-Null Count  Dtype  \n",
            "---  ------   --------------  -----  \n",
            " 0   cust_id  195 non-null    int64  \n",
            " 1   target   195 non-null    float64\n",
            "dtypes: float64(1), int64(1)\n",
            "memory usage: 3.2 KB\n",
            "None\n"
          ]
        }
      ]
    },
    {
      "cell_type": "code",
      "source": [
        "print(x_train.describe())\n",
        "print(x_test.describe())\n",
        "print(y_train.describe())"
      ],
      "metadata": {
        "colab": {
          "base_uri": "https://localhost:8080/"
        },
        "id": "IXz9yNECi_d2",
        "outputId": "9297601f-88aa-4270-c314-0068040f0c7c"
      },
      "execution_count": 9,
      "outputs": [
        {
          "output_type": "stream",
          "name": "stdout",
          "text": [
            "          cust_id  total_bill        size\n",
            "count  195.000000  195.000000  195.000000\n",
            "mean   122.056410   20.054667    2.543590\n",
            "std     70.668034    8.961645    0.942631\n",
            "min      0.000000    3.070000    1.000000\n",
            "25%     59.500000   13.420000    2.000000\n",
            "50%    121.000000   17.920000    2.000000\n",
            "75%    182.500000   24.395000    3.000000\n",
            "max    243.000000   50.810000    6.000000\n",
            "          cust_id  total_bill       size\n",
            "count   49.000000   49.000000  49.000000\n",
            "mean   119.285714   18.716531   2.673469\n",
            "std     70.918674    8.669864   0.987162\n",
            "min      2.000000    5.750000   2.000000\n",
            "25%     62.000000   12.740000   2.000000\n",
            "50%    123.000000   16.660000   2.000000\n",
            "75%    180.000000   21.010000   3.000000\n",
            "max    239.000000   44.300000   6.000000\n",
            "          cust_id      target\n",
            "count  195.000000  195.000000\n",
            "mean   122.056410    3.021692\n",
            "std     70.668034    1.402690\n",
            "min      0.000000    1.000000\n",
            "25%     59.500000    2.000000\n",
            "50%    121.000000    2.920000\n",
            "75%    182.500000    3.530000\n",
            "max    243.000000   10.000000\n"
          ]
        }
      ]
    },
    {
      "cell_type": "code",
      "source": [
        "print(x_train.describe(include = 'category'))\n",
        "print(x_test.describe(include = 'category'))"
      ],
      "metadata": {
        "colab": {
          "base_uri": "https://localhost:8080/"
        },
        "id": "yoBn7L0JjPlt",
        "outputId": "f690c148-9a91-4846-dc17-2c4c013903f9"
      },
      "execution_count": 11,
      "outputs": [
        {
          "output_type": "stream",
          "name": "stdout",
          "text": [
            "         sex smoker  day    time\n",
            "count    195    195  195     195\n",
            "unique     2      2    4       2\n",
            "top     Male     No  Sat  Dinner\n",
            "freq     125    120   71     142\n",
            "         sex smoker  day    time\n",
            "count     49     49   49      49\n",
            "unique     2      2    4       2\n",
            "top     Male     No  Sat  Dinner\n",
            "freq      32     31   16      34\n"
          ]
        }
      ]
    },
    {
      "cell_type": "code",
      "source": [
        "print(x_train.isnull().sum())\n",
        "print(x_test.isnull().sum())\n",
        "print(y_train.isnull().sum())"
      ],
      "metadata": {
        "colab": {
          "base_uri": "https://localhost:8080/"
        },
        "id": "gzBgxTlUjdBH",
        "outputId": "814a4ead-9065-4ff4-d5bf-84f096b4cb38"
      },
      "execution_count": 12,
      "outputs": [
        {
          "output_type": "stream",
          "name": "stdout",
          "text": [
            "cust_id       0\n",
            "total_bill    0\n",
            "sex           0\n",
            "smoker        0\n",
            "day           0\n",
            "time          0\n",
            "size          0\n",
            "dtype: int64\n",
            "cust_id       0\n",
            "total_bill    0\n",
            "sex           0\n",
            "smoker        0\n",
            "day           0\n",
            "time          0\n",
            "size          0\n",
            "dtype: int64\n",
            "cust_id    0\n",
            "target     0\n",
            "dtype: int64\n"
          ]
        }
      ]
    },
    {
      "cell_type": "code",
      "source": [
        "cust_id = x_test['cust_id'].copy()"
      ],
      "metadata": {
        "id": "cOuXDUDlj2KU"
      },
      "execution_count": 13,
      "outputs": []
    },
    {
      "cell_type": "code",
      "source": [
        "x_train = x_train.drop(columns = ['cust_id'])\n",
        "x_test = x_test.drop(columns = ['cust_id'])"
      ],
      "metadata": {
        "id": "VOdSzmZokC_2"
      },
      "execution_count": 14,
      "outputs": []
    },
    {
      "cell_type": "code",
      "source": [
        "x_train = pd.get_dummies(x_train)\n",
        "x_test = pd.get_dummies(x_test)\n",
        "print(x_train.info())\n",
        "print(x_test.info())"
      ],
      "metadata": {
        "colab": {
          "base_uri": "https://localhost:8080/"
        },
        "id": "m8bFoc-EkPx_",
        "outputId": "272d309c-f6b8-4fd6-94d8-b95dffaca8c5"
      },
      "execution_count": 15,
      "outputs": [
        {
          "output_type": "stream",
          "name": "stdout",
          "text": [
            "<class 'pandas.core.frame.DataFrame'>\n",
            "RangeIndex: 195 entries, 0 to 194\n",
            "Data columns (total 12 columns):\n",
            " #   Column       Non-Null Count  Dtype  \n",
            "---  ------       --------------  -----  \n",
            " 0   total_bill   195 non-null    float64\n",
            " 1   size         195 non-null    int64  \n",
            " 2   sex_Male     195 non-null    uint8  \n",
            " 3   sex_Female   195 non-null    uint8  \n",
            " 4   smoker_Yes   195 non-null    uint8  \n",
            " 5   smoker_No    195 non-null    uint8  \n",
            " 6   day_Thur     195 non-null    uint8  \n",
            " 7   day_Fri      195 non-null    uint8  \n",
            " 8   day_Sat      195 non-null    uint8  \n",
            " 9   day_Sun      195 non-null    uint8  \n",
            " 10  time_Lunch   195 non-null    uint8  \n",
            " 11  time_Dinner  195 non-null    uint8  \n",
            "dtypes: float64(1), int64(1), uint8(10)\n",
            "memory usage: 5.1 KB\n",
            "None\n",
            "<class 'pandas.core.frame.DataFrame'>\n",
            "RangeIndex: 49 entries, 0 to 48\n",
            "Data columns (total 12 columns):\n",
            " #   Column       Non-Null Count  Dtype  \n",
            "---  ------       --------------  -----  \n",
            " 0   total_bill   49 non-null     float64\n",
            " 1   size         49 non-null     int64  \n",
            " 2   sex_Male     49 non-null     uint8  \n",
            " 3   sex_Female   49 non-null     uint8  \n",
            " 4   smoker_Yes   49 non-null     uint8  \n",
            " 5   smoker_No    49 non-null     uint8  \n",
            " 6   day_Thur     49 non-null     uint8  \n",
            " 7   day_Fri      49 non-null     uint8  \n",
            " 8   day_Sat      49 non-null     uint8  \n",
            " 9   day_Sun      49 non-null     uint8  \n",
            " 10  time_Lunch   49 non-null     uint8  \n",
            " 11  time_Dinner  49 non-null     uint8  \n",
            "dtypes: float64(1), int64(1), uint8(10)\n",
            "memory usage: 1.4 KB\n",
            "None\n"
          ]
        }
      ]
    },
    {
      "cell_type": "code",
      "source": [
        "from sklearn.model_selection import train_test_split\n",
        "\n",
        "x_train, x_val, y_train, y_val = train_test_split(x_train, y_train['target'], test_size = 0.2, random_state = 2023)\n",
        "\n",
        "print(x_train.shape)\n",
        "print(x_val.shape)\n",
        "print(y_train.shape)\n",
        "print(y_val.shape)"
      ],
      "metadata": {
        "colab": {
          "base_uri": "https://localhost:8080/"
        },
        "id": "pHetvGeukfVu",
        "outputId": "c1f62f56-6014-44d5-ee17-0d0ee6d548ed"
      },
      "execution_count": 16,
      "outputs": [
        {
          "output_type": "stream",
          "name": "stdout",
          "text": [
            "(156, 12)\n",
            "(39, 12)\n",
            "(156,)\n",
            "(39,)\n"
          ]
        }
      ]
    },
    {
      "cell_type": "code",
      "source": [
        "from sklearn.ensemble import RandomForestRegressor\n",
        "\n",
        "model = RandomForestRegressor()\n",
        "model.fit(x_train, y_train)"
      ],
      "metadata": {
        "colab": {
          "base_uri": "https://localhost:8080/",
          "height": 75
        },
        "id": "0yuPlIkIla4r",
        "outputId": "b21a1114-8bf7-4012-a364-1bf083d321e6"
      },
      "execution_count": 17,
      "outputs": [
        {
          "output_type": "execute_result",
          "data": {
            "text/plain": [
              "RandomForestRegressor()"
            ],
            "text/html": [
              "<style>#sk-container-id-1 {color: black;background-color: white;}#sk-container-id-1 pre{padding: 0;}#sk-container-id-1 div.sk-toggleable {background-color: white;}#sk-container-id-1 label.sk-toggleable__label {cursor: pointer;display: block;width: 100%;margin-bottom: 0;padding: 0.3em;box-sizing: border-box;text-align: center;}#sk-container-id-1 label.sk-toggleable__label-arrow:before {content: \"▸\";float: left;margin-right: 0.25em;color: #696969;}#sk-container-id-1 label.sk-toggleable__label-arrow:hover:before {color: black;}#sk-container-id-1 div.sk-estimator:hover label.sk-toggleable__label-arrow:before {color: black;}#sk-container-id-1 div.sk-toggleable__content {max-height: 0;max-width: 0;overflow: hidden;text-align: left;background-color: #f0f8ff;}#sk-container-id-1 div.sk-toggleable__content pre {margin: 0.2em;color: black;border-radius: 0.25em;background-color: #f0f8ff;}#sk-container-id-1 input.sk-toggleable__control:checked~div.sk-toggleable__content {max-height: 200px;max-width: 100%;overflow: auto;}#sk-container-id-1 input.sk-toggleable__control:checked~label.sk-toggleable__label-arrow:before {content: \"▾\";}#sk-container-id-1 div.sk-estimator input.sk-toggleable__control:checked~label.sk-toggleable__label {background-color: #d4ebff;}#sk-container-id-1 div.sk-label input.sk-toggleable__control:checked~label.sk-toggleable__label {background-color: #d4ebff;}#sk-container-id-1 input.sk-hidden--visually {border: 0;clip: rect(1px 1px 1px 1px);clip: rect(1px, 1px, 1px, 1px);height: 1px;margin: -1px;overflow: hidden;padding: 0;position: absolute;width: 1px;}#sk-container-id-1 div.sk-estimator {font-family: monospace;background-color: #f0f8ff;border: 1px dotted black;border-radius: 0.25em;box-sizing: border-box;margin-bottom: 0.5em;}#sk-container-id-1 div.sk-estimator:hover {background-color: #d4ebff;}#sk-container-id-1 div.sk-parallel-item::after {content: \"\";width: 100%;border-bottom: 1px solid gray;flex-grow: 1;}#sk-container-id-1 div.sk-label:hover label.sk-toggleable__label {background-color: #d4ebff;}#sk-container-id-1 div.sk-serial::before {content: \"\";position: absolute;border-left: 1px solid gray;box-sizing: border-box;top: 0;bottom: 0;left: 50%;z-index: 0;}#sk-container-id-1 div.sk-serial {display: flex;flex-direction: column;align-items: center;background-color: white;padding-right: 0.2em;padding-left: 0.2em;position: relative;}#sk-container-id-1 div.sk-item {position: relative;z-index: 1;}#sk-container-id-1 div.sk-parallel {display: flex;align-items: stretch;justify-content: center;background-color: white;position: relative;}#sk-container-id-1 div.sk-item::before, #sk-container-id-1 div.sk-parallel-item::before {content: \"\";position: absolute;border-left: 1px solid gray;box-sizing: border-box;top: 0;bottom: 0;left: 50%;z-index: -1;}#sk-container-id-1 div.sk-parallel-item {display: flex;flex-direction: column;z-index: 1;position: relative;background-color: white;}#sk-container-id-1 div.sk-parallel-item:first-child::after {align-self: flex-end;width: 50%;}#sk-container-id-1 div.sk-parallel-item:last-child::after {align-self: flex-start;width: 50%;}#sk-container-id-1 div.sk-parallel-item:only-child::after {width: 0;}#sk-container-id-1 div.sk-dashed-wrapped {border: 1px dashed gray;margin: 0 0.4em 0.5em 0.4em;box-sizing: border-box;padding-bottom: 0.4em;background-color: white;}#sk-container-id-1 div.sk-label label {font-family: monospace;font-weight: bold;display: inline-block;line-height: 1.2em;}#sk-container-id-1 div.sk-label-container {text-align: center;}#sk-container-id-1 div.sk-container {/* jupyter's `normalize.less` sets `[hidden] { display: none; }` but bootstrap.min.css set `[hidden] { display: none !important; }` so we also need the `!important` here to be able to override the default hidden behavior on the sphinx rendered scikit-learn.org. See: https://github.com/scikit-learn/scikit-learn/issues/21755 */display: inline-block !important;position: relative;}#sk-container-id-1 div.sk-text-repr-fallback {display: none;}</style><div id=\"sk-container-id-1\" class=\"sk-top-container\"><div class=\"sk-text-repr-fallback\"><pre>RandomForestRegressor()</pre><b>In a Jupyter environment, please rerun this cell to show the HTML representation or trust the notebook. <br />On GitHub, the HTML representation is unable to render, please try loading this page with nbviewer.org.</b></div><div class=\"sk-container\" hidden><div class=\"sk-item\"><div class=\"sk-estimator sk-toggleable\"><input class=\"sk-toggleable__control sk-hidden--visually\" id=\"sk-estimator-id-1\" type=\"checkbox\" checked><label for=\"sk-estimator-id-1\" class=\"sk-toggleable__label sk-toggleable__label-arrow\">RandomForestRegressor</label><div class=\"sk-toggleable__content\"><pre>RandomForestRegressor()</pre></div></div></div></div></div>"
            ]
          },
          "metadata": {},
          "execution_count": 17
        }
      ]
    },
    {
      "cell_type": "code",
      "source": [
        "y_pred = model.predict(x_val)"
      ],
      "metadata": {
        "id": "gJB4BNQ2lsOv"
      },
      "execution_count": 18,
      "outputs": []
    },
    {
      "cell_type": "code",
      "source": [
        "from sklearn.metrics import r2_score, mean_squared_error\n",
        "\n",
        "r2 = r2_score(y_val, y_pred)\n",
        "mse = mean_squared_error(y_val,y_pred)"
      ],
      "metadata": {
        "id": "bo_kislYl7L1"
      },
      "execution_count": 19,
      "outputs": []
    },
    {
      "cell_type": "code",
      "source": [
        "print(mse)"
      ],
      "metadata": {
        "colab": {
          "base_uri": "https://localhost:8080/"
        },
        "id": "hIw32n43mPwn",
        "outputId": "7ccea18f-176f-470b-e969-a19d5c66cac9"
      },
      "execution_count": 20,
      "outputs": [
        {
          "output_type": "stream",
          "name": "stdout",
          "text": [
            "1.174942178205128\n"
          ]
        }
      ]
    },
    {
      "cell_type": "code",
      "source": [
        "print(r2)"
      ],
      "metadata": {
        "colab": {
          "base_uri": "https://localhost:8080/"
        },
        "id": "bte9VGLYmSF2",
        "outputId": "964a8b74-ea7f-4a5a-beec-8d6648538951"
      },
      "execution_count": 21,
      "outputs": [
        {
          "output_type": "stream",
          "name": "stdout",
          "text": [
            "0.5904263879778149\n"
          ]
        }
      ]
    },
    {
      "cell_type": "code",
      "source": [
        "print(mse**0.5)"
      ],
      "metadata": {
        "colab": {
          "base_uri": "https://localhost:8080/"
        },
        "id": "QUUcczFcmTj7",
        "outputId": "208b17a0-c93e-4bed-e8cc-b94e1852ff2a"
      },
      "execution_count": 22,
      "outputs": [
        {
          "output_type": "stream",
          "name": "stdout",
          "text": [
            "1.0839474979006722\n"
          ]
        }
      ]
    },
    {
      "cell_type": "code",
      "source": [
        "y_result = model.predict(x_test)\n",
        "result = pd.DataFrame({'cust_id':cust_id, 'target':y_result})\n",
        "print(result[:5])"
      ],
      "metadata": {
        "colab": {
          "base_uri": "https://localhost:8080/"
        },
        "id": "TnJ2dTuYmW4F",
        "outputId": "4d3380da-25ae-48cd-9e7e-4560dfb361cf"
      },
      "execution_count": 23,
      "outputs": [
        {
          "output_type": "stream",
          "name": "stdout",
          "text": [
            "   cust_id  target\n",
            "0      154  3.1316\n",
            "1        4  2.9177\n",
            "2       30  1.9392\n",
            "3       75  1.6886\n",
            "4       33  3.2632\n"
          ]
        }
      ]
    },
    {
      "cell_type": "code",
      "source": [],
      "metadata": {
        "id": "N0pBHqNkmvbo"
      },
      "execution_count": null,
      "outputs": []
    }
  ]
}